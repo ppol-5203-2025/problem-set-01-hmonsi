{
 "cells": [
  {
   "cell_type": "markdown",
   "id": "245e7088",
   "metadata": {},
   "source": [
    "<h1><center> PPOL 5203 Data Science I: Foundations <br><br> \n",
    "<font color='grey'>Problem Set I<br><br>\n",
    "Tiago Ventura</center></center> <h1> "
   ]
  },
  {
   "cell_type": "markdown",
   "id": "4fe2c5d4",
   "metadata": {},
   "source": [
    "This problem set will focus on: \n",
    "\n",
    "- Best Practices for project organization, reproducibility and coding\n",
    "- Git: working with branches, merging, and solving git conflicts\n",
    "- Git: understanding commit structure.\n",
    "\n",
    "You should submit your assigment via github classroom. \n",
    "\n",
    "I will consider your last commit as your final submission. "
   ]
  },
  {
   "cell_type": "markdown",
   "id": "f3e2b620",
   "metadata": {},
   "source": [
    "## Question 1 (pts 30) \n",
    "\n",
    "Congratulations!! Your data science report was accepted for publication! As it has become the norm, you now have to submit the data and code for replication of your report's results. \n",
    "\n",
    "You decided to create a github repo with all the materials (data, code, figures) of your article. You article has the following materials: \n",
    "\n",
    "- `main.py` (runs the main results of the paper); \n",
    "- `res_sif.py` (runs all results of the appendix);\n",
    "- `ana_add_p.py` (additional analysis main paper);\n",
    "- `prep   II  version_3.py` (does all the processing of the data);\n",
    "- `survey s II qualtrics 12/10.csv` (raw data);\n",
    "- `raw_data_II_saved_by_coauthor_X.json` (clean data);\n",
    "- `fig.png` (figure 1)\n",
    "- `figure abs.png` (figure 2)\n",
    "- `figure abs2.png` (figure 3)\n",
    "- `figure abs3.png` (figure 4)\n",
    "- `figure abs4.png` (figure 5)\n",
    "- `figure sif.png` (figure 1 appendix with heteregenous effects)\n",
    "- `figure sif .png` (figure 2 appendix results for polarization)\n",
    "- `figure sif .png` (figure 3 appendix robustness checks)\n",
    "\n",
    "**Your taks:** Create a folder in your repository named `question-01`. In this folder, you should simulate a github repo with all the materials (data, code, figures) of your article that follows the best practices for project management and reproducibility we discussed in class. \n",
    "\n",
    "- Tip 1: Check [this repo](https://github.com/TiagoVentura/winning_plosone/tree/main) to see what your response should look like. \n",
    "\n",
    "- Tip 2: I do not care what is inside of each file. Just create a empty file/output with the appropiate name. \n",
    "\n",
    "- Tip 3: You **do not** need to worry about creating a conda or pyenv environment. "
   ]
  },
  {
   "cell_type": "code",
   "execution_count": null,
   "id": "825d293b",
   "metadata": {},
   "outputs": [],
   "source": [
    "# No needs to answer anything here. This should be a full folder in your repository\n"
   ]
  },
  {
   "cell_type": "markdown",
   "id": "77656f95",
   "metadata": {},
   "source": [
    "## Question 2 (pts 30) \n",
    "\n",
    "In this question, I ask you to practice several git commands. In your response below, you should paste all the commands you used to answer the question. If you did some trial and error, it is not a problem. Paste the correct response to each item. \n",
    "\n",
    "1. In your main repository (from github classroom), create a `.txt` named `solutions_for_question_2`. Write the name of your favorite book in the file.  \n",
    "\n",
    "2. Add that file to the staging area.\n",
    "\n",
    "3. Commit that file with a clear commit message\n",
    "\n",
    "4. Create and checkout to a new branch called \"wish_to\"\n",
    "\n",
    "5. Make a change `solutions_for_question_2` and commit. The change should be adding your second favorite book.\n",
    "\n",
    "3. Switch back to the `master` or `main` branch.\n",
    "\n",
    "4. Make a change `solutions_for_question_2` and commit. Add the book you want to read next. Make sure that change is to the same line as you change in step 5. Make sure the change differs from what you did in step two. \n",
    "\n",
    "5. Now merge the `new` and `master` branches.\n",
    "\n",
    "6. Manually resolve the git conflict and then commit the resolved version. Be detailed on how you are solving the conflict\n",
    "\n",
    "7. Look at your git and describe with words the timeline of changes. "
   ]
  },
  {
   "cell_type": "code",
   "execution_count": null,
   "id": "51e79d0f-555a-405c-a574-659ff261db3a",
   "metadata": {},
   "outputs": [],
   "source": [
    "# Paste here all the commands you used to answer this questions. \n",
    "hmonsivais@Helenas-MacBook-Pro question_01 % cd .. #return to the main folder\n",
    "hmonsivais@Helenas-MacBook-Pro problem-set-01-hmonsi % vim solutions_for_question_2.txt #create/edit text file\n",
    "hmonsivais@Helenas-MacBook-Pro problem-set-01-hmonsi % git add solutions_for_question_2.txt #stage\n",
    "hmonsivais@Helenas-MacBook-Pro problem-set-01-hmonsi % git commit -m \"Adding my favorite book\" #commit\n",
    "[main 998cb5d] Adding my favorite book\n",
    " 1 file changed, 1 insertion(+)\n",
    " create mode 100644 solutions_for_question_2.txt"
   ]
  },
  {
   "cell_type": "code",
   "execution_count": null,
   "id": "022db167-58b6-44b5-a73d-87ae04768c67",
   "metadata": {},
   "outputs": [],
   "source": [
    "hmonsivais@Helenas-MacBook-Pro problem-set-01-hmonsi % git checkout -b wish_to #create branch\n",
    "Switched to a new branch 'wish_to'\n",
    "hmonsivais@Helenas-MacBook-Pro problem-set-01-hmonsi % vim solutions_for_question_2.txt #edit text file        \n",
    "hmonsivais@Helenas-MacBook-Pro problem-set-01-hmonsi % git add solutions_for_question_2.txt #stage\n",
    "hmonsivais@Helenas-MacBook-Pro problem-set-01-hmonsi % git commit -m \"Adding my second favorite book\" #commit\n",
    "[wish_to 73bee58] Adding my second favorite book\n",
    " 1 file changed, 1 insertion(+)"
   ]
  },
  {
   "cell_type": "code",
   "execution_count": null,
   "id": "44601e4c-11a2-400a-aa18-eb1f991be6cb",
   "metadata": {},
   "outputs": [],
   "source": [
    "hmonsivais@Helenas-MacBook-Pro problem-set-01-hmonsi % git checkout main #return to main\n",
    "M\t.DS_Store\n",
    "M\t_ps_set1.ipynb\n",
    "Switched to branch 'main'\n",
    "Your branch is ahead of 'origin/main' by 1 commit.\n",
    "  (use \"git push\" to publish your local commits)"
   ]
  },
  {
   "cell_type": "code",
   "execution_count": null,
   "id": "c0e39bf0-082a-4023-87ae-c8c53f947f01",
   "metadata": {},
   "outputs": [],
   "source": [
    "hmonsivais@Helenas-MacBook-Pro problem-set-01-hmonsi % vim solutions_for_question_2.txt #edit text file\n",
    "hmonsivais@Helenas-MacBook-Pro problem-set-01-hmonsi % git merge wish_to #I forgot to stage and commit before merging, so I got this error\n",
    "Auto-merging solutions_for_question_2.txt\n",
    "CONFLICT (content): Merge conflict in solutions_for_question_2.txt\n",
    "Automatic merge failed; fix conflicts and then commit the result."
   ]
  },
  {
   "cell_type": "code",
   "execution_count": null,
   "id": "d1f3c4b6-9f3e-4f71-8e4d-3086b3ac3136",
   "metadata": {},
   "outputs": [],
   "source": [
    "hmonsivais@Helenas-MacBook-Pro problem-set-01-hmonsi % git add solutions_for_question_2.txt #staging \n",
    "hmonsivais@Helenas-MacBook-Pro problem-set-01-hmonsi % git commit -m \"Adding the book I want to read next, Lonesome Dove\" #commit\n",
    "[main 50f17ed] Adding the book I want to read next, Lonesome Dove\n",
    " 1 file changed, 1 insertion(+)\n",
    "hmonsivais@Helenas-MacBook-Pro problem-set-01-hmonsi % git merge wish_to #NOW I can merge!\n",
    "Auto-merging solutions_for_question_2.txt\n",
    "CONFLICT (content): Merge conflict in solutions_for_question_2.txt\n",
    "Automatic merge failed; fix conflicts and then commit the result.\n",
    "\n",
    "#From here, I manually went back into the text file to discover that the error was caused by the edits being on the same line! So, I manually edited the file to read correctly.\n",
    "hmonsivais@Helenas-MacBook-Pro problem-set-01-hmonsi % git add solutions_for_question_2.txt #staging the fixed file\n",
    "hmonsivais@Helenas-MacBook-Pro problem-set-01-hmonsi % git commit -m \"Fixing the merge conflict by putting The Bible and Lonesome Dove on separate lines\" #commit\n",
    "[main 35e5305] Fixing the merge conflict by putting The Bible and Lonesome Dove on separate lines\n",
    "hmonsivais@Helenas-MacBook-Pro problem-set-01-hmonsi % git log #looking at version history"
   ]
  },
  {
   "cell_type": "markdown",
   "id": "3f892f46-03c0-4d8c-9932-3196230eede5",
   "metadata": {},
   "source": [
    "git log\n",
    "\n",
    "The timeline of changes shows that I started by adding and setting up the GitHub Classroom feedback. Then, I added my favorite book. Next, I added my second favorite book in the wish_to branch. Then, I added the book I want to read next, Lonesome Dove. Finally, I fixed the merge conflict by putting the Bible and Lonesome Dove on separate lines. "
   ]
  },
  {
   "cell_type": "markdown",
   "id": "8803051b",
   "metadata": {},
   "source": [
    "## Question 3 (pts 30)\n",
    "\n",
    "Solve the challenges of this Git Scavenger task  \n",
    "\n",
    "Here is the link of the task:\n",
    "\n",
    "https://github.com/PPOL-5203-2023/git-scavenger-hunt-20203\n",
    "\n",
    "Provide your answers below in this notebook. "
   ]
  },
  {
   "cell_type": "raw",
   "id": "3b8fe3cf-d7b0-4c05-88e7-9ab7182760b3",
   "metadata": {},
   "source": [
    "1. Title: Trump is explaining exactly how wild and extreme his second term would be\n",
    "Stephen Collinson\n",
    "\n",
    "2. You removed lines 4-7 which removed the author and day updated. You removed text and blank space from lines 16-19, and lines 22-24. You added the url to the news story on line 14. \n",
    "\n",
    "3. Currently, you are reading: Babel, or the Necessity of Violence: An Arcane History of the Oxford Translators' Revolution; and Ted Chiang: Exhalation\n",
    "\n",
    "4. You read the most books in 2021 (22!)\n",
    "\n",
    "5. I actually am reading Golden Son right now! I loved Red Rising and am excited to continue the series. Red Rising is a favorite. \n",
    "\n",
    "6. This happened in commit 057908f876eab23d2497712be9bb4929cb60b62f, when you added the \"what_have_i_been_reading\" branch on Monday, Sept. 11, 2023. There is no information about the books on the main branch because the information is not housed in the main branch. \n",
    "\n",
    "7. There are two branches still active: jb, updates-book-2025. Comparing the two, there is no difference between the content. Both files were also commited at the same time. \n",
    "\n",
    "8. All of the dog pictures are very cute! My favorite is dog1.jpeg of the beagle on the couch. \n",
    "\n",
    "9. The commit hash number for the README change is 4fe8974. The longer hash is 4fe8974f1e69c14fd5254cb15f5bb31f4c6efd30. \n",
    "\n",
    "10. This exercise is inspired by Eric Dunford. \n",
    "\n",
    "11. You are actually currently reading The Trouble with Peace by Joe Abercrombie. "
   ]
  },
  {
   "cell_type": "markdown",
   "id": "c129e20d",
   "metadata": {},
   "source": [
    "## Question 4 (pts 10)\n",
    "\n",
    "As part of this homework, I want you to complete at least one course on DataCamp about Git. I created a track for you on your DataCamp Dashboard. Your tasks are: \n",
    "\n",
    "- Complete at least one of the courses in the git track\n",
    "\n",
    "- Submit a certification/proof of completion as a PDF in the github repository for this assignment. \n",
    "\n",
    "**IMPORTANT:** You have free access to datacamp as part of this course. So you do not need to sign up. Just follow the github invitation (with your georgetown email) that I sent earlier to you.  \n",
    "\n",
    "If you have time, complete the entire track. It is really worth it!"
   ]
  },
  {
   "cell_type": "markdown",
   "id": "e0158d6d",
   "metadata": {},
   "source": [
    "### Happy Git!"
   ]
  }
 ],
 "metadata": {
  "kernelspec": {
   "display_name": "Python 3 (ipykernel)",
   "language": "python",
   "name": "python3"
  },
  "language_info": {
   "codemirror_mode": {
    "name": "ipython",
    "version": 3
   },
   "file_extension": ".py",
   "mimetype": "text/x-python",
   "name": "python",
   "nbconvert_exporter": "python",
   "pygments_lexer": "ipython3",
   "version": "3.13.7"
  }
 },
 "nbformat": 4,
 "nbformat_minor": 5
}
